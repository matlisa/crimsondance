{
 "cells": [
  {
   "cell_type": "markdown",
   "metadata": {
    "collapsed": true
   },
   "source": [
    "# Final Project!!!\n",
    "## Crimson Dance\n",
    "### Project Title?: Slay the Charts like Beyoncé\n",
    "\n",
    "Hi team, let's do this. Please read the comments :)\n",
    "\n",
    "<img src=\"http://static.celebuzz.com/uploads/2013/09/03/beyonce-33.gif\" style=\"width:100%; align:left\">\n"
   ]
  },
  {
   "cell_type": "code",
   "execution_count": 137,
   "metadata": {
    "collapsed": true
   },
   "outputs": [],
   "source": [
    "%matplotlib inline\n",
    "import numpy as np\n",
    "import scipy as sp\n",
    "import matplotlib as mpl\n",
    "import matplotlib.cm as cm\n",
    "import matplotlib.pyplot as plt\n",
    "import pandas as pd\n",
    "import time\n",
    "pd.set_option('display.width', 500)\n",
    "pd.set_option('display.max_columns', 100)\n",
    "pd.set_option('display.notebook_repr_html', True)\n",
    "import seaborn as sns\n",
    "sns.set_style(\"whitegrid\")\n",
    "sns.set_context(\"poster\")\n",
    "import re\n",
    "import math\n",
    "import urllib2\n",
    "import json"
   ]
  },
  {
   "cell_type": "code",
   "execution_count": 2,
   "metadata": {
    "collapsed": true
   },
   "outputs": [],
   "source": [
    "from pyquery import PyQuery as pq\n",
    "from bs4 import BeautifulSoup\n",
    "import requests"
   ]
  },
  {
   "cell_type": "markdown",
   "metadata": {},
   "source": [
    "## Retrieving the Songs\n",
    "\n",
    "We want to obtain a list of songs to query information for using the Echo Nest API later."
   ]
  },
  {
   "cell_type": "code",
   "execution_count": 227,
   "metadata": {
    "collapsed": false
   },
   "outputs": [],
   "source": [
    "# my code\n",
    "# TO DO: choose the years\n",
    "\n",
    "years = range(1995, 2015, 1)\n",
    "all_links = []\n",
    "\n",
    "for index in range(len(years)):\n",
    "    link = requests.get('http://en.wikipedia.org/wiki/Billboard_Year-End_Hot_100_singles_of_ %(year)4d' % \\\n",
    "        {\"year\": years[index]}) \n",
    "    all_links.append(link)\n",
    "    time.sleep(1)\n",
    "    \n",
    "yearstext = dict(zip(years, all_links))"
   ]
  },
  {
   "cell_type": "code",
   "execution_count": 228,
   "metadata": {
    "collapsed": true
   },
   "outputs": [],
   "source": [
    "# From HW1\n",
    "\"\"\"\n",
    "Function\n",
    "--------\n",
    "parse_year\n",
    "\n",
    "Inputs\n",
    "------\n",
    "year: the year you want the singles for\n",
    "ytextdixt: a dictionary with keys as integer years and values the downloaded web pages \n",
    "    from wikipedia for that year.\n",
    "   \n",
    "Returns\n",
    "-------\n",
    "\n",
    "a list of dictionaries, each of which corresponds to a single and has the\n",
    "following data:\n",
    "\n",
    "Eg:\n",
    "\n",
    "{'band_singer': ['Brandy', 'Monica'],\n",
    "  'ranking': 2,\n",
    "  'song': ['The Boy Is Mine'],\n",
    "  'songurl': ['/wiki/The_Boy_Is_Mine_(song)'],\n",
    "  'titletext': '\" The Boy Is Mine \"',\n",
    "  'url': ['/wiki/Brandy_Norwood', '/wiki/Monica_(entertainer)']}\n",
    "  \n",
    "A dictionary with the following data:\n",
    "    band_singer: a list of bands/singers who made this single\n",
    "    song: a list of the titles of songs on this single\n",
    "    songurl: a list of the same size as song which has urls for the songs on the single \n",
    "        (see point 3 above)\n",
    "    ranking: ranking of the single\n",
    "    titletext: the contents of the table cell\n",
    "    band_singer: a list of bands or singers on this single\n",
    "    url: a list of wikipedia singer/band urls on this single: only put in the part \n",
    "        of the url from /wiki onwards\n",
    "    \n",
    "\n",
    "Notes\n",
    "-----\n",
    "See description and example above.\n",
    "\"\"\"\n",
    "# my code\n",
    "\n",
    "def cleaner(r):\n",
    "    url = []\n",
    "    songurl = []\n",
    "    band_singer = []\n",
    "    song_name = []\n",
    "    songs = r[1].findAll(\"a\")\n",
    "    singers = r[2].findAll(\"a\")\n",
    "    for song in songs:\n",
    "        songurl.append(song[\"href\"])\n",
    "        song_name.append(song.get_text())\n",
    "    for singer in singers:\n",
    "        url.append(singer[\"href\"])\n",
    "        band_singer.append(singer.get_text())\n",
    "    return [int(r[0].get_text()), r[1].get_text(), band_singer, url, \n",
    "            song_name, songurl]\n",
    "    \n",
    "fields = [\"ranking\", \"titletext\", \"band_singer\", \"url\", \"song\", \"songurl\"]\n",
    "\n",
    "def parse_year(year, ytextdixt):\n",
    "    page_info = ytextdixt.get(year)\n",
    "    parsed = BeautifulSoup(page_info.text, \"html.parser\")\n",
    "    rows = parsed.find(\"table\", attrs={\"class\": \"wikitable\"}).find_all(\"tr\")[1:]\n",
    "    songs = [dict(zip(fields, cleaner(row.find_all(\"th\") + row.find_all(\"td\")))) for row in rows]\n",
    "    return songs"
   ]
  },
  {
   "cell_type": "code",
   "execution_count": 229,
   "metadata": {
    "collapsed": false
   },
   "outputs": [],
   "source": [
    "yearinfo = {y:parse_year(y, yearstext) for y in years}"
   ]
  },
  {
   "cell_type": "code",
   "execution_count": 230,
   "metadata": {
    "collapsed": false
   },
   "outputs": [],
   "source": [
    "# fd = open(\"tempdata/yearinfo.json\",\"w\")\n",
    "# json.dump(yearinfo, fd)\n",
    "# fd.close()"
   ]
  },
  {
   "cell_type": "code",
   "execution_count": 231,
   "metadata": {
    "collapsed": false
   },
   "outputs": [],
   "source": [
    "# del yearinfo\n",
    "with open(\"tempdata/yearinfo.json\", \"r\") as fd:\n",
    "    yearinfo = json.load(fd)"
   ]
  },
  {
   "cell_type": "code",
   "execution_count": 232,
   "metadata": {
    "collapsed": true
   },
   "outputs": [],
   "source": [
    "# From HW1\n",
    "yeardict={}\n",
    "for y in yearinfo.keys():\n",
    "    yearlist=yearinfo[y]\n",
    "    yearlist2=[]\n",
    "    for idict in yearlist:\n",
    "        singers=idict['band_singer']\n",
    "        for i,s in enumerate(singers):\n",
    "            songs=idict['song']\n",
    "            for j,so in enumerate(songs):#now inside each singer song combination\n",
    "                nd={}\n",
    "                nd['band_singer']=s\n",
    "                nd['url']=idict['url'][i]\n",
    "                nd['song']=so\n",
    "                nd['songurl']=idict['songurl'][j]\n",
    "                nd['ranking']=idict['ranking']\n",
    "                yearlist2.append(nd)\n",
    "    yeardict[y]=pd.DataFrame(yearlist2)#one for each year\n",
    "yearspanel=pd.Panel.from_dict(yeardict, orient=\"minor\")#stack dataframes into a panel\n",
    "hierframe=yearspanel.to_frame() #flattening leads to a hierarchical index"
   ]
  },
  {
   "cell_type": "code",
   "execution_count": 233,
   "metadata": {
    "collapsed": false
   },
   "outputs": [
    {
     "data": {
      "text/html": [
       "<div>\n",
       "<table border=\"1\" class=\"dataframe\">\n",
       "  <thead>\n",
       "    <tr style=\"text-align: right;\">\n",
       "      <th></th>\n",
       "      <th>major</th>\n",
       "      <th>minor</th>\n",
       "      <th>band_singer</th>\n",
       "      <th>ranking</th>\n",
       "      <th>song</th>\n",
       "      <th>songurl</th>\n",
       "      <th>url</th>\n",
       "    </tr>\n",
       "  </thead>\n",
       "  <tbody>\n",
       "    <tr>\n",
       "      <th>0</th>\n",
       "      <td>0</td>\n",
       "      <td>1995</td>\n",
       "      <td>Coolio</td>\n",
       "      <td>1</td>\n",
       "      <td>Gangsta's Paradise</td>\n",
       "      <td>/wiki/Gangsta%27s_Paradise_(song)</td>\n",
       "      <td>/wiki/Coolio</td>\n",
       "    </tr>\n",
       "    <tr>\n",
       "      <th>1</th>\n",
       "      <td>0</td>\n",
       "      <td>1996</td>\n",
       "      <td>Los del Río</td>\n",
       "      <td>1</td>\n",
       "      <td>Macarena</td>\n",
       "      <td>/wiki/Macarena_(song)</td>\n",
       "      <td>/wiki/Los_del_R%C3%ADo</td>\n",
       "    </tr>\n",
       "    <tr>\n",
       "      <th>2</th>\n",
       "      <td>0</td>\n",
       "      <td>1997</td>\n",
       "      <td>Elton John</td>\n",
       "      <td>1</td>\n",
       "      <td>Something About the Way You Look Tonight</td>\n",
       "      <td>/wiki/Something_About_the_Way_You_Look_Tonight</td>\n",
       "      <td>/wiki/Elton_John</td>\n",
       "    </tr>\n",
       "    <tr>\n",
       "      <th>3</th>\n",
       "      <td>0</td>\n",
       "      <td>1998</td>\n",
       "      <td>Next</td>\n",
       "      <td>1</td>\n",
       "      <td>Too Close</td>\n",
       "      <td>/wiki/Too_Close_(Next_song)</td>\n",
       "      <td>/wiki/Next_(group)</td>\n",
       "    </tr>\n",
       "    <tr>\n",
       "      <th>4</th>\n",
       "      <td>0</td>\n",
       "      <td>1999</td>\n",
       "      <td>Cher</td>\n",
       "      <td>1</td>\n",
       "      <td>Believe</td>\n",
       "      <td>/wiki/Believe_(Cher_song)</td>\n",
       "      <td>/wiki/Cher</td>\n",
       "    </tr>\n",
       "  </tbody>\n",
       "</table>\n",
       "</div>"
      ],
      "text/plain": [
       "   major minor  band_singer  ranking                                      song                                         songurl                     url\n",
       "0      0  1995       Coolio        1                        Gangsta's Paradise               /wiki/Gangsta%27s_Paradise_(song)            /wiki/Coolio\n",
       "1      0  1996  Los del Río        1                                  Macarena                           /wiki/Macarena_(song)  /wiki/Los_del_R%C3%ADo\n",
       "2      0  1997   Elton John        1  Something About the Way You Look Tonight  /wiki/Something_About_the_Way_You_Look_Tonight        /wiki/Elton_John\n",
       "3      0  1998         Next        1                                 Too Close                     /wiki/Too_Close_(Next_song)      /wiki/Next_(group)\n",
       "4      0  1999         Cher        1                                   Believe                       /wiki/Believe_(Cher_song)              /wiki/Cher"
      ]
     },
     "execution_count": 233,
     "metadata": {},
     "output_type": "execute_result"
    }
   ],
   "source": [
    "flatframe = hierframe.reset_index()\n",
    "flatframe.head()"
   ]
  },
  {
   "cell_type": "code",
   "execution_count": 234,
   "metadata": {
    "collapsed": false
   },
   "outputs": [
    {
     "data": {
      "text/html": [
       "<div>\n",
       "<table border=\"1\" class=\"dataframe\">\n",
       "  <thead>\n",
       "    <tr style=\"text-align: right;\">\n",
       "      <th></th>\n",
       "      <th>year</th>\n",
       "      <th>band_singer</th>\n",
       "      <th>ranking</th>\n",
       "      <th>song</th>\n",
       "      <th>songurl</th>\n",
       "      <th>url</th>\n",
       "    </tr>\n",
       "  </thead>\n",
       "  <tbody>\n",
       "    <tr>\n",
       "      <th>0</th>\n",
       "      <td>1995</td>\n",
       "      <td>Coolio</td>\n",
       "      <td>1</td>\n",
       "      <td>Gangsta's Paradise</td>\n",
       "      <td>/wiki/Gangsta%27s_Paradise_(song)</td>\n",
       "      <td>/wiki/Coolio</td>\n",
       "    </tr>\n",
       "    <tr>\n",
       "      <th>1</th>\n",
       "      <td>1996</td>\n",
       "      <td>Los del Río</td>\n",
       "      <td>1</td>\n",
       "      <td>Macarena</td>\n",
       "      <td>/wiki/Macarena_(song)</td>\n",
       "      <td>/wiki/Los_del_R%C3%ADo</td>\n",
       "    </tr>\n",
       "    <tr>\n",
       "      <th>2</th>\n",
       "      <td>1997</td>\n",
       "      <td>Elton John</td>\n",
       "      <td>1</td>\n",
       "      <td>Something About the Way You Look Tonight</td>\n",
       "      <td>/wiki/Something_About_the_Way_You_Look_Tonight</td>\n",
       "      <td>/wiki/Elton_John</td>\n",
       "    </tr>\n",
       "    <tr>\n",
       "      <th>3</th>\n",
       "      <td>1998</td>\n",
       "      <td>Next</td>\n",
       "      <td>1</td>\n",
       "      <td>Too Close</td>\n",
       "      <td>/wiki/Too_Close_(Next_song)</td>\n",
       "      <td>/wiki/Next_(group)</td>\n",
       "    </tr>\n",
       "    <tr>\n",
       "      <th>4</th>\n",
       "      <td>1999</td>\n",
       "      <td>Cher</td>\n",
       "      <td>1</td>\n",
       "      <td>Believe</td>\n",
       "      <td>/wiki/Believe_(Cher_song)</td>\n",
       "      <td>/wiki/Cher</td>\n",
       "    </tr>\n",
       "  </tbody>\n",
       "</table>\n",
       "</div>"
      ],
      "text/plain": [
       "   year  band_singer  ranking                                      song                                         songurl                     url\n",
       "0  1995       Coolio        1                        Gangsta's Paradise               /wiki/Gangsta%27s_Paradise_(song)            /wiki/Coolio\n",
       "1  1996  Los del Río        1                                  Macarena                           /wiki/Macarena_(song)  /wiki/Los_del_R%C3%ADo\n",
       "2  1997   Elton John        1  Something About the Way You Look Tonight  /wiki/Something_About_the_Way_You_Look_Tonight        /wiki/Elton_John\n",
       "3  1998         Next        1                                 Too Close                     /wiki/Too_Close_(Next_song)      /wiki/Next_(group)\n",
       "4  1999         Cher        1                                   Believe                       /wiki/Believe_(Cher_song)              /wiki/Cher"
      ]
     },
     "execution_count": 234,
     "metadata": {},
     "output_type": "execute_result"
    }
   ],
   "source": [
    "flatframe = flatframe.rename(columns={'minor':'year'})\n",
    "del flatframe['major']\n",
    "flatframe.head()"
   ]
  },
  {
   "cell_type": "code",
   "execution_count": 235,
   "metadata": {
    "collapsed": false
   },
   "outputs": [
    {
     "data": {
      "text/html": [
       "<div>\n",
       "<table border=\"1\" class=\"dataframe\">\n",
       "  <thead>\n",
       "    <tr style=\"text-align: right;\">\n",
       "      <th></th>\n",
       "      <th>year</th>\n",
       "      <th>band_singer</th>\n",
       "      <th>ranking</th>\n",
       "      <th>song</th>\n",
       "      <th>songurl</th>\n",
       "      <th>url</th>\n",
       "    </tr>\n",
       "  </thead>\n",
       "  <tbody>\n",
       "    <tr>\n",
       "      <th>0</th>\n",
       "      <td>1995</td>\n",
       "      <td>Coolio</td>\n",
       "      <td>1</td>\n",
       "      <td>Gangsta's Paradise</td>\n",
       "      <td>/wiki/Gangsta%27s_Paradise_(song)</td>\n",
       "      <td>/wiki/Coolio</td>\n",
       "    </tr>\n",
       "    <tr>\n",
       "      <th>20</th>\n",
       "      <td>1995</td>\n",
       "      <td>L.V.</td>\n",
       "      <td>1</td>\n",
       "      <td>Gangsta's Paradise</td>\n",
       "      <td>/wiki/Gangsta%27s_Paradise_(song)</td>\n",
       "      <td>/wiki/L.V._(singer)</td>\n",
       "    </tr>\n",
       "    <tr>\n",
       "      <th>40</th>\n",
       "      <td>1995</td>\n",
       "      <td>TLC</td>\n",
       "      <td>2</td>\n",
       "      <td>Waterfalls</td>\n",
       "      <td>/wiki/Waterfalls_(TLC_song)</td>\n",
       "      <td>/wiki/TLC_(band)</td>\n",
       "    </tr>\n",
       "    <tr>\n",
       "      <th>60</th>\n",
       "      <td>1995</td>\n",
       "      <td>TLC</td>\n",
       "      <td>3</td>\n",
       "      <td>Creep</td>\n",
       "      <td>/wiki/Creep_(TLC_song)</td>\n",
       "      <td>/wiki/TLC_(band)</td>\n",
       "    </tr>\n",
       "    <tr>\n",
       "      <th>80</th>\n",
       "      <td>1995</td>\n",
       "      <td>Seal</td>\n",
       "      <td>4</td>\n",
       "      <td>Kiss from a Rose</td>\n",
       "      <td>/wiki/Kiss_from_a_Rose</td>\n",
       "      <td>/wiki/Seal_(musician)</td>\n",
       "    </tr>\n",
       "  </tbody>\n",
       "</table>\n",
       "</div>"
      ],
      "text/plain": [
       "    year band_singer  ranking                song                            songurl                    url\n",
       "0   1995      Coolio        1  Gangsta's Paradise  /wiki/Gangsta%27s_Paradise_(song)           /wiki/Coolio\n",
       "20  1995        L.V.        1  Gangsta's Paradise  /wiki/Gangsta%27s_Paradise_(song)    /wiki/L.V._(singer)\n",
       "40  1995         TLC        2          Waterfalls        /wiki/Waterfalls_(TLC_song)       /wiki/TLC_(band)\n",
       "60  1995         TLC        3               Creep             /wiki/Creep_(TLC_song)       /wiki/TLC_(band)\n",
       "80  1995        Seal        4    Kiss from a Rose             /wiki/Kiss_from_a_Rose  /wiki/Seal_(musician)"
      ]
     },
     "execution_count": 235,
     "metadata": {},
     "output_type": "execute_result"
    }
   ],
   "source": [
    "flatframe.sort([\"year\", \"ranking\"], inplace=True)\n",
    "flatframe.head()"
   ]
  },
  {
   "cell_type": "code",
   "execution_count": 236,
   "metadata": {
    "collapsed": false
   },
   "outputs": [
    {
     "data": {
      "text/plain": [
       "2641"
      ]
     },
     "execution_count": 236,
     "metadata": {},
     "output_type": "execute_result"
    }
   ],
   "source": [
    "len(flatframe.url)"
   ]
  },
  {
   "cell_type": "markdown",
   "metadata": {},
   "source": [
    "## Retrieving the Data for the Songs\n",
    "\n",
    "I tried retrieving data for 10 years worth of songs, however the API yelled at me; I think went over the maximum number of requests. With my API key, I can request something every three seconds (hence `time.sleep(3)`). I think each of us should get a key so we can do the requests together :)\n",
    "\n",
    "Here, I am retrieving data for only one year; the requests should take less than 10 minutes. I think we can perhaps do five years at a time."
   ]
  },
  {
   "cell_type": "code",
   "execution_count": 237,
   "metadata": {
    "collapsed": false
   },
   "outputs": [],
   "source": [
    "# change year into integer\n",
    "flatframe[\"year\"] = flatframe[\"year\"].astype(int)"
   ]
  },
  {
   "cell_type": "code",
   "execution_count": 239,
   "metadata": {
    "collapsed": false
   },
   "outputs": [
    {
     "data": {
      "text/html": [
       "<div>\n",
       "<table border=\"1\" class=\"dataframe\">\n",
       "  <thead>\n",
       "    <tr style=\"text-align: right;\">\n",
       "      <th></th>\n",
       "      <th>year</th>\n",
       "      <th>band_singer</th>\n",
       "      <th>ranking</th>\n",
       "      <th>song</th>\n",
       "      <th>songurl</th>\n",
       "      <th>url</th>\n",
       "    </tr>\n",
       "  </thead>\n",
       "  <tbody>\n",
       "    <tr>\n",
       "      <th>10</th>\n",
       "      <td>2005</td>\n",
       "      <td>Mariah Carey</td>\n",
       "      <td>1</td>\n",
       "      <td>We Belong Together</td>\n",
       "      <td>/wiki/We_Belong_Together_(Mariah_Carey_song)</td>\n",
       "      <td>/wiki/Mariah_Carey</td>\n",
       "    </tr>\n",
       "    <tr>\n",
       "      <th>30</th>\n",
       "      <td>2005</td>\n",
       "      <td>Gwen Stefani</td>\n",
       "      <td>2</td>\n",
       "      <td>Hollaback Girl</td>\n",
       "      <td>/wiki/Hollaback_Girl</td>\n",
       "      <td>/wiki/Gwen_Stefani</td>\n",
       "    </tr>\n",
       "    <tr>\n",
       "      <th>50</th>\n",
       "      <td>2005</td>\n",
       "      <td>Mario</td>\n",
       "      <td>3</td>\n",
       "      <td>Let Me Love You</td>\n",
       "      <td>/wiki/Let_Me_Love_You_(Mario_song)</td>\n",
       "      <td>/wiki/Mario_(entertainer)</td>\n",
       "    </tr>\n",
       "    <tr>\n",
       "      <th>70</th>\n",
       "      <td>2005</td>\n",
       "      <td>Kelly Clarkson</td>\n",
       "      <td>4</td>\n",
       "      <td>Since U Been Gone</td>\n",
       "      <td>/wiki/Since_U_Been_Gone</td>\n",
       "      <td>/wiki/Kelly_Clarkson</td>\n",
       "    </tr>\n",
       "    <tr>\n",
       "      <th>90</th>\n",
       "      <td>2005</td>\n",
       "      <td>Ciara</td>\n",
       "      <td>5</td>\n",
       "      <td>1, 2 Step</td>\n",
       "      <td>/wiki/1,_2_Step</td>\n",
       "      <td>/wiki/Ciara</td>\n",
       "    </tr>\n",
       "    <tr>\n",
       "      <th>110</th>\n",
       "      <td>2005</td>\n",
       "      <td>Missy Elliott</td>\n",
       "      <td>5</td>\n",
       "      <td>1, 2 Step</td>\n",
       "      <td>/wiki/1,_2_Step</td>\n",
       "      <td>/wiki/Missy_Elliott</td>\n",
       "    </tr>\n",
       "  </tbody>\n",
       "</table>\n",
       "</div>"
      ],
      "text/plain": [
       "     year     band_singer  ranking                song                                       songurl                        url\n",
       "10   2005    Mariah Carey        1  We Belong Together  /wiki/We_Belong_Together_(Mariah_Carey_song)         /wiki/Mariah_Carey\n",
       "30   2005    Gwen Stefani        2      Hollaback Girl                          /wiki/Hollaback_Girl         /wiki/Gwen_Stefani\n",
       "50   2005           Mario        3     Let Me Love You            /wiki/Let_Me_Love_You_(Mario_song)  /wiki/Mario_(entertainer)\n",
       "70   2005  Kelly Clarkson        4   Since U Been Gone                       /wiki/Since_U_Been_Gone       /wiki/Kelly_Clarkson\n",
       "90   2005           Ciara        5           1, 2 Step                               /wiki/1,_2_Step                /wiki/Ciara\n",
       "110  2005   Missy Elliott        5           1, 2 Step                               /wiki/1,_2_Step        /wiki/Missy_Elliott"
      ]
     },
     "execution_count": 239,
     "metadata": {},
     "output_type": "execute_result"
    }
   ],
   "source": [
    "# 2005 was used as a test\n",
    "y2005 = flatframe[flatframe.year==2005]\n",
    "y2005.head(6)"
   ]
  },
  {
   "cell_type": "code",
   "execution_count": 240,
   "metadata": {
    "collapsed": false
   },
   "outputs": [
    {
     "data": {
      "text/plain": [
       "138"
      ]
     },
     "execution_count": 240,
     "metadata": {},
     "output_type": "execute_result"
    }
   ],
   "source": [
    "len(y2005) ## over 100, due to featurings"
   ]
  },
  {
   "cell_type": "code",
   "execution_count": 241,
   "metadata": {
    "collapsed": false,
    "scrolled": true
   },
   "outputs": [],
   "source": [
    "# FUNCTION get_songs\n",
    "\n",
    "def get_songs(year_start, year_end):\n",
    "    all_songs = []\n",
    "    featurings = []\n",
    "    billboard = flatframe[(flatframe.year >= year_start) & (flatframe.year <= year_end)]\n",
    "    for index, row in billboard.iterrows():\n",
    "        song = urllib2.quote(row[\"song\"].encode(\"utf-8\"))\n",
    "        artist = urllib2.quote(row[\"band_singer\"].encode(\"utf-8\"))\n",
    "        link = requests.get('http://developer.echonest.com/api/v4/song/search?api_key=GT3HIFAMRWWCOWIAZ' + \n",
    "                            '&bucket=artist_discovery&bucket=artist_discovery_rank&bucket=artist_familiarity' +\n",
    "                            '&bucket=artist_familiarity_rank&bucket=artist_hotttnesss&bucket=artist_hotttnesss_rank' +\n",
    "                            '&bucket=artist_location&bucket=song_currency&bucket=song_currency_rank' +\n",
    "                            '&bucket=song_discovery&bucket=song_discovery_rank&bucket=song_hotttnesss'+\n",
    "                            '&bucket=song_hotttnesss_rank&bucket=song_type&bucket=audio_summary' +\n",
    "                            '&results=1&title=%(song)s&artist=%(artist)s' % \\\n",
    "                            {\"song\": song, \"artist\": artist})\n",
    "        result_json = json.loads(link.text)\n",
    "        if not result_json[\"response\"][\"songs\"]:\n",
    "            featurings.append(index)\n",
    "        all_songs.append(result_json)\n",
    "        time.sleep(3)\n",
    "    return all_songs\n",
    "    \n",
    "## echonest does not seem to account for featurings, see below:\n",
    "## https://developer.echonest.com/forums/thread/2007"
   ]
  },
  {
   "cell_type": "code",
   "execution_count": 243,
   "metadata": {
    "collapsed": false
   },
   "outputs": [],
   "source": [
    "# %% time\n",
    "# all_songs_95_04 = get_songs(1995, 2004)"
   ]
  },
  {
   "cell_type": "code",
   "execution_count": 185,
   "metadata": {
    "collapsed": false
   },
   "outputs": [],
   "source": [
    "## for some reason, echonest was not allowing us to do too many requests at once, \n",
    "## so the songs from 2005-2014 were requested in parts\n",
    "## all_songs_06_14 = all_songs_06_partial[:142] + all_songs_06_partial2 + all_songs_06_partial3"
   ]
  },
  {
   "cell_type": "code",
   "execution_count": 25,
   "metadata": {
    "collapsed": true
   },
   "outputs": [],
   "source": [
    "# fd=open(\"tempdata/all_songs_95_04.json\",\"w\")\n",
    "# json.dump(all_songs_95_04, fd)\n",
    "# fd.close()"
   ]
  },
  {
   "cell_type": "code",
   "execution_count": 26,
   "metadata": {
    "collapsed": true
   },
   "outputs": [],
   "source": [
    "# If you need to reload you can use this code\n",
    "# with open(\"tempdata/allsongs05.json\") as json_file:\n",
    "#     all_songs_95_04 = json.load(json_file)\n",
    "# you might have to add code to get the correct types.."
   ]
  },
  {
   "cell_type": "code",
   "execution_count": 197,
   "metadata": {
    "collapsed": false
   },
   "outputs": [],
   "source": [
    "columns = [\"title\", \"id\", \"artist_name\", \"artist_id\", \"audio_summary\", \"artist_discovery\",\n",
    "           \"artist_discovery_rank\", \"artist_familiarity\", \"artist_familiarity_rank\",\n",
    "           \"artist_hotttnesss\", \"artist_hotttnesss_rank\", \"artist_location\", \"song_currency\", \n",
    "           \"song_currency_rank\", \"song_discovery\", \"song_discovery_rank\", \"song_hotttnesss\", \n",
    "           \"song_hotttnesss_rank\", \"song_type\"]\n",
    "\n",
    "audio_summary = [\"acousticness\", \"analysis_url\",\"audio_md5\", \"audio_md5\", \"duration\", \"energy\", \"key\", \n",
    "                 \"liveness\", \"loudness\",\"mode\", \"speechiness\", \"tempo\", \"time_signature\", \"valence\"]"
   ]
  },
  {
   "cell_type": "code",
   "execution_count": null,
   "metadata": {
    "collapsed": true
   },
   "outputs": [],
   "source": [
    "# FUNCTION flatten\n",
    "\n",
    "def flatten(all_songs, billboard):\n",
    "    print len(all_songs), len(billboard) ## should be equal\n",
    "    songdicts=[]\n",
    "    fails = []\n",
    "    total_feature_fails=0\n",
    "    \n",
    "    for a, i in zip(all_songs, range(len(all_songs))):\n",
    "        d={}\n",
    "        if a[\"response\"][\"status\"][\"message\"] == \"Success\":\n",
    "\n",
    "            if  not a[\"response\"][\"songs\"]:\n",
    "                total_feature_fails=total_feature_fails+1\n",
    "            for b in a[\"response\"][\"songs\"]:\n",
    "                for var in set(b.keys()).intersection(columns):\n",
    "                    if var == \"audio_summary\":\n",
    "                        for v in set(b[var].keys()).intersection(audio_summary):\n",
    "                            d[v] = b[var][v]\n",
    "                    d[var] = b[var]\n",
    "                    d[\"index\"] = billboard.index[i]\n",
    "\n",
    "                songdicts.append(d)  \n",
    "\n",
    "        # if the requests failed\n",
    "        else:\n",
    "            fails.append(i)\n",
    "            print i, a\n",
    "    return pd.DataFrame(songdicts)"
   ]
  },
  {
   "cell_type": "code",
   "execution_count": 244,
   "metadata": {
    "collapsed": false,
    "scrolled": true
   },
   "outputs": [],
   "source": [
    "# df_echonest = flatten(all_songs_95_04, flatframe[(flatframe.year >= 1995) & (flatframe.year <= 2004)])\n",
    "# df_echonest.head(6)"
   ]
  },
  {
   "cell_type": "code",
   "execution_count": 143,
   "metadata": {
    "collapsed": false
   },
   "outputs": [],
   "source": [
    "# adding in the old dataframe so that we have ranking information\n",
    "# all_95_04=pd.merge(df_echonest, flatframe, left_on=[\"index\"], right_index=True)\n",
    "# all_95_04.head()"
   ]
  },
  {
   "cell_type": "code",
   "execution_count": 146,
   "metadata": {
    "collapsed": false
   },
   "outputs": [],
   "source": [
    "# all_95_04.to_csv(\"tempdata/all_95_04.csv\", encoding='utf-8')"
   ]
  },
  {
   "cell_type": "code",
   "execution_count": 206,
   "metadata": {
    "collapsed": true
   },
   "outputs": [],
   "source": [
    "# frames = [all_05, all_06_14]\n",
    "# all_05_14 = pd.concat(frames)"
   ]
  },
  {
   "cell_type": "code",
   "execution_count": 208,
   "metadata": {
    "collapsed": false
   },
   "outputs": [],
   "source": [
    "# all_05_14.to_csv(\"tempdata/all_05_14.csv\", encoding='utf-8')"
   ]
  },
  {
   "cell_type": "code",
   "execution_count": 64,
   "metadata": {
    "collapsed": true
   },
   "outputs": [],
   "source": [
    "# TO DO:\n",
    "# more years!!!"
   ]
  },
  {
   "cell_type": "markdown",
   "metadata": {},
   "source": [
    "## Exploratory Data Analysis"
   ]
  },
  {
   "cell_type": "code",
   "execution_count": null,
   "metadata": {
    "collapsed": true
   },
   "outputs": [],
   "source": [
    "# BELOW IS EXTRA"
   ]
  },
  {
   "cell_type": "code",
   "execution_count": 194,
   "metadata": {
    "collapsed": false
   },
   "outputs": [
    {
     "name": "stdout",
     "output_type": "stream",
     "text": [
      "31 Promiscuous Timbaland\n",
      "61 Hips%20Don%27t%20Lie Wyclef%20Jean\n",
      "121 SexyBack Timbaland\n",
      "181 Grillz Ali%20%26%20Gipp\n",
      "221 Buttons Snoop%20Dogg\n",
      "241 Run%20It%21 Juelz%20Santana\n",
      "271 It%27s%20Goin%27%20Down Nitti\n",
      "341 Snap%20Yo%20Fingers E-40\n",
      "351 Snap%20Yo%20Fingers Sean%20Paul\n",
      "481 Money%20Maker Pharrell\n",
      "501 Ms.%20New%20Booty Ying%20Yang%20Twins\n",
      "521 %28When%20You%20Gonna%29%20Give%20It%20Up%20to%20Me Keyshia%20Cole\n",
      "571 I%27m%20%27n%20Luv%20%28Wit%20a%20Stripper%29 Mike%20Jones\n",
      "601 Where%27d%20You%20Go Holly%20Brook\n",
      "611 Where%27d%20You%20Go Jonah%20Matranga\n",
      "711 U%20and%20Dat T-Pain\n",
      "721 U%20and%20Dat Kandi%20Girl\n",
      "761 So%20What Ciara\n",
      "781 Do%20It%20to%20It Sean%20P\n",
      "841 Unpredictable Ludacris\n",
      "901 Pullin%27%20Me%20Back Tyrese\n",
      "951 Smack%20That Eminem\n",
      "991 Gimme%20That Lil%20Wayne\n",
      "1021 Who%20Says%20You%20Can%27t%20Go%20Home Jennifer%20Nettles\n",
      "1121 Show%20Stopper Yung%20Joc\n",
      "1191 Beep will.i.am\n",
      "1211 I%20Think%20They%20Like%20Me Jermaine%20Dupri\n",
      "1271 Soul%20Survivor Akon\n",
      "1326 Stay%20Fly 8Ball%20%26%20MJG\n",
      "42 The%20Sweet%20Escape Akon\n",
      "72 Buy%20U%20a%20Drank%20%28Shawty%20Snappin%27%29 Yung%20Joc\n",
      "112 I%20Wanna%20Love%20You Snoop%20Dogg\n",
      "142 Glamorous Ludacris\n",
      "202 Smack%20That Eminem\n",
      "262 Fergalicious will.i.am\n",
      "272 Crank%20That%20%28Soulja%20Boy%29 Soulja%20Boy%20Tell%20%27Em\n",
      "302 Give%20It%20to%20Me Justin%20Timberlake\n",
      "332 Cupid%27s%20Chokehold Patrick%20Stump\n",
      "452 Bartender Akon\n",
      "482 Runaway%20Love Mary%20J.%20Blige\n",
      "572 Last%20Night Keyshia%20Cole\n",
      "592 Make%20It%20Rain Lil%20Wayne\n",
      "612 Make%20Me%20Better Ne-Yo\n",
      "632 Ice%20Box Timbaland\n",
      "682 I%27m%20a%20Flirt T.I.\n",
      "692 I%27m%20a%20Flirt T-Pain\n",
      "752 Shortie%20Like%20Mine Chris%20Brown\n",
      "762 Shortie%20Like%20Mine Johnt%C3%A1%20Austin\n",
      "872 Beautiful%20Liar Shakira\n",
      "912 Let%20It%20Go Missy%20Elliott\n",
      "922 Let%20It%20Go Lil%27%20Kim\n",
      "972 Who%20Knew Pink\n",
      "1042 Big%20Shit%20Poppin%27%20%28Do%20It%29 T.I.\n",
      "1092 Walk%20Away%20%28Remember%20Me%29 The%20D.E.Y.\n",
      "1162 Cyclone T-Pain\n",
      "1212 Ayo%20Technology Justin%20Timberlake\n",
      "1222 Ayo%20Technology Timbaland\n",
      "1242 Outta%20My%20System T-Pain\n",
      "1252 Outta%20My%20System Johnt%C3%A1%20Austin\n",
      "1302 Money%20Maker Pharrell\n",
      "1343 Rock%20Yo%20Hips Lil%27%20Scrappy\n",
      "13 Low T-Pain\n",
      "53 Lollipop Static%20Major\n",
      "93 No%20Air Chris%20Brown\n",
      "123 Love%20in%20This%20Club Young%20Jeezy\n",
      "303 4%20Minutes Justin%20Timberlake\n",
      "313 4%20Minutes Timbaland\n",
      "473 Live%20Your%20Life Rihanna\n",
      "493 Bust%20It%20Baby%20%28Part%202%29 Ne-Yo\n",
      "513 American%20Boy Kanye%20West\n",
      "603 Independent Lil%20Phat\n",
      "623 Can%27t%20Believe%20It Lil%20Wayne\n",
      "683 What%20You%20Got Akon\n",
      "713 Crank%20That%20%28Soulja%20Boy%29 Soulja%20Boy%20Tell%20%27Em\n",
      "743 Sweetest%20Girl%20%28Dollar%20Bill%29 Akon\n",
      "753 Sweetest%20Girl%20%28Dollar%20Bill%29 Lil%20Wayne\n",
      "763 Sweetest%20Girl%20%28Dollar%20Bill%29 Niia\n",
      "803 In%20the%20Ayer will.i.am\n",
      "843 Hate%20That%20I%20Love%20You Ne-Yo\n",
      "863 Superstar Matthew%20Santos\n",
      "893 Let%20It%20Rock Lil%20Wayne\n",
      "913 Get%20Like%20Me Chris%20Brown\n",
      "943 Put%20On Kanye%20West\n",
      "983 Cyclone T-Pain\n",
      "1003 Love%20Like%20This Sean%20Kingston\n",
      "1063 Hypnotized Akon\n",
      "1093 Good%20Life T-Pain\n",
      "1153 The%20Boss T-Pain\n",
      "1233 Flashing%20Lights Dwele\n",
      "1253 Mrs.%20Officer Bobby%20Valentino\n",
      "1336 Into%20the%20Night Chad%20Kroeger\n",
      "1367 She%20Got%20It Tay%20Dizm\n",
      "34 Just%20Dance Colby%20O%27Donis\n",
      "134 Dead%20and%20Gone Justin%20Timberlake\n",
      "174 Knock%20You%20Down Kanye%20West\n",
      "184 Knock%20You%20Down Ne-Yo\n",
      "204 Blame%20It T-Pain\n",
      "234 Live%20Your%20Life Rihanna\n",
      "244 Kiss%20Me%20thru%20the%20Phone Soulja%20Boy%20Tell%20%27Em\n",
      "254 Kiss%20Me%20thru%20the%20Phone Sammie\n",
      "394 Run%20This%20Town Rihanna\n",
      "404 Run%20This%20Town Kanye%20West\n",
      "424 Let%20It%20Rock Lil%20Wayne\n",
      "634 Turnin%20Me%20On Lil%20Wayne\n",
      "694 Beautiful Colby%20O%27Donis\n",
      "704 Beautiful Kardinal%20Offishall\n",
      "854 Break%20Up Sean%20Garrett\n",
      "924 Throw%20It%20in%20the%20Bag The-Dream\n",
      "1004 Turn%20My%20Swag%20On Soulja%20Boy%20Tell%20%27Em\n",
      "1084 How%20Do%20You%20Sleep%3F Ludacris\n",
      "1184 Green%20Light Andr%C3%A9%203000\n",
      "1234 Say%20Hey%20%28I%20Love%20You%29 Michael%20Franti%20%26%20Spearhead\n",
      "1244 Say%20Hey%20%28I%20Love%20You%29 Cherine%20Anderson\n",
      "1274 Pop%20Champagne Juelz%20Santana\n",
      "45 California%20Gurls Snoop%20Dogg\n",
      "65 OMG will.i.am\n",
      "85 Airplanes Hayley%20Williams\n",
      "165 Nothin%27%20on%20You Bruno%20Mars\n",
      "345 Billionaire Bruno%20Mars\n",
      "385 Sexy%20Bitch Akon\n",
      "445 Say%20Aah Fabolous\n",
      "525 Like%20a%20G6 Dev\n",
      "545 Carry%20Out Justin%20Timberlake\n",
      "635 Baby Ludacris\n",
      "735 Blah%20Blah%20Blah 3OH%213\n",
      "755 Bottoms%20Up Nicki%20Minaj\n",
      "775 Do%20You%20Remember Sean%20Paul\n",
      "785 Do%20You%20Remember Lil%20Jon\n",
      "825 My%20Chick%20Bad Nicki%20Minaj\n",
      "905 Magic Rivers%20Cuomo\n",
      "935 Tie%20Me%20Down Ray%20J\n",
      "975 Deuces Tyga\n",
      "985 Deuces Kevin%20McCall\n",
      "1065 Two%20Is%20Better%20Than%20One Taylor%20Swift\n",
      "1085 My%20First%20Kiss Ke%24ha\n",
      "1155 All%20I%20Do%20Is%20Win T-Pain\n",
      "1165 All%20I%20Do%20Is%20Win Ludacris\n",
      "1175 All%20I%20Do%20Is%20Win Snoop%20Dogg\n",
      "1185 All%20I%20Do%20Is%20Win Rick%20Ross\n",
      "1255 Hey%20Daddy%20%28Daddy%27s%20Home%29 Plies\n",
      "1353 Right%20Above%20It Drake\n",
      "36 Party%20Rock%20Anthem GoonRock\n",
      "66 E.T. Kanye%20West\n",
      "156 Moves%20like%20Jagger Christina%20Aguilera\n",
      "246 Tonight%20%28I%27m%20Lovin%27%20You%29 Ludacris\n",
      "256 Tonight%20%28I%27m%20Lovin%27%20You%29 DJ%20Frank%20E\n",
      "286 Fuckin%27%20Perfect Pink\n",
      "306 What%27s%20My%20Name%3F Drake\n",
      "336 Look%20at%20Me%20Now Busta%20Rhymes\n",
      "356 Down%20on%20Me 50%20Cent\n",
      "486 Lighters Bruno%20Mars\n",
      "516 Stereo%20Hearts Adam%20Levine\n",
      "596 6%20Foot%207%20Foot Cory%20Gunz\n",
      "656 No%20Hands Roscoe%20Dash\n",
      "686 I%27m%20on%20One Drake\n",
      "696 I%27m%20on%20One Rick%20Ross\n",
      "706 I%27m%20on%20One Lil%20Wayne\n",
      "756 Moment%204%20Life Drake\n",
      "776 I%20Need%20a%20Doctor Eminem\n",
      "786 I%20Need%20a%20Doctor Skylar%20Grey\n",
      "816 Motivation Lil%20Wayne\n",
      "836 Stereo%20Love Vika%20Jigulina\n",
      "886 Rocketeer Ryan%20Tedder\n",
      "906 All%20of%20the%20Lights Rihanna\n",
      "976 Bottoms%20Up Nicki%20Minaj\n",
      "1036 Don%27t%20You%20Wanna%20Stay Kelly%20Clarkson\n",
      "1056 We%20Found%20Love Calvin%20Harris\n",
      "1106 Like%20a%20G6 Dev\n",
      "1206 Knee%20Deep Jimmy%20Buffett\n",
      "1266 Backseat The%20Cataracs\n",
      "1276 Backseat Dev\n",
      "1322 Where%20Them%20Girls%20At Flo%20Rida\n",
      "1330 Where%20Them%20Girls%20At Nicki%20Minaj\n",
      "1375 Price%20Tag B.o.B\n",
      "1405 You%20and%20Tequila Grace%20Potter\n",
      "1411 My%20Last Chris%20Brown\n",
      "117 We%20Found%20Love Calvin%20Harris\n",
      "257 The%20Motto Lil%20Wayne\n",
      "377 Mercy 2%20Chainz\n",
      "417 Party%20Rock%20Anthem GoonRock\n",
      "497 As%20Long%20as%20You%20Love%20Me Big%20Sean\n",
      "517 Turn%20Me%20On Nicki%20Minaj\n",
      "537 Moves%20like%20Jagger Christina%20Aguilera\n",
      "597 Niggas%20in%20Paris Kanye%20West\n",
      "687 International%20Love Chris%20Brown\n",
      "737 Ass%20Back%20Home Neon%20Hitch\n",
      "777 No%20Lie Drake\n",
      "817 Dance%20%28A%24%24%29 Nicki%20Minaj\n",
      "867 Stereo%20Hearts Adam%20Levine\n",
      "1067 Birthday%20Cake Chris%20Brown\n",
      "1207 We%20Run%20the%20Night Pitbull\n",
      "28 Thrift%20Shop Wanz\n",
      "58 Blurred%20Lines Pharrell%20Williams\n",
      "108 Can%27t%20Hold%20Us Ray%20Dalton\n",
      "128 Just%20Give%20Me%20a%20Reason Pink\n",
      "138 Just%20Give%20Me%20a%20Reason Nate%20Ruess\n",
      "168 Cruise Nelly\n",
      "238 Get%20Lucky Pharrell%20Williams\n",
      "308 Suit%20%26%20Tie Jay-Z\n",
      "318 Cups%20%28Pitch%20Perfect%27s%20When%20I%27m%20Gone%29 Anna%20Kendrick\n",
      "338 Holy%20Grail Justin%20Timberlake\n",
      "438 I%20Love%20It Charli%20XCX\n",
      "478 The%20Way Mac%20Miller\n",
      "518 Hold%20On%2C%20We%27re%20Going%20Home Majid%20Jordan\n",
      "548 Feel%20This%20Moment Christina%20Aguilera\n",
      "618 Fuckin%27%20Problems ASAP%20Rocky\n",
      "628 Fuckin%27%20Problems Drake\n",
      "638 Fuckin%27%20Problems 2%20Chainz\n",
      "648 Fuckin%27%20Problems Kendrick%20Lamar\n",
      "668 Beauty%20and%20a%20Beat Nicki%20Minaj\n",
      "698 Same%20Love Mary%20Lambert\n",
      "718 Sweet%20Nothing Florence%20Welch\n",
      "778 Power%20Trip Miguel\n",
      "818 I%20Will%20Wait Mumford%20%26%20Sons\n",
      "868 I%20Need%20Your%20Love Ellie%20Goulding\n",
      "928 Boys%20%27Round%20Here Pistol%20Annies\n",
      "1108 Highway%20Don%27t%20Care Taylor%20Swift\n",
      "1118 Highway%20Don%27t%20Care Keith%20Urban\n",
      "1188 Troublemaker Flo%20Rida\n",
      "1268 U.O.E.N.O. Rick%20Ross\n",
      "1315 Bugatti Future\n",
      "1363 %23thatPower Justin%20Bieber\n",
      "29 Dark%20Horse Juicy%20J\n",
      "59 Fancy Charli%20XCX\n",
      "89 Talk%20Dirty 2%20Chainz\n",
      "129 Problem Iggy%20Azalea\n",
      "159 Timber Kesha\n",
      "349 Black%20Widow Rita%20Ora\n",
      "369 Bang%20Bang Ariana%20Grande\n",
      "379 Bang%20Bang Nicki%20Minaj\n",
      "429 Loyal Lil%20Wayne\n",
      "439 Loyal French%20Montana\n",
      "449 Loyal Too%20Short\n",
      "459 Loyal Tyga\n",
      "519 Drunk%20in%20Love Jay%20Z\n",
      "549 Break%20Free Zedd\n",
      "609 Wiggle Snoop%20Dogg\n",
      "629 Rather%20Be Jess%20Glynne\n",
      "649 Don%27t%20Tell%20%27Em YG\n",
      "669 Show%20Me Chris%20Brown\n",
      "739 This%20Is%20How%20We%20Roll Luke%20Bryan\n",
      "789 Hot%20Boy Bobby%20Shmurda\n",
      "809 Hold%20On%2C%20We%27re%20Going%20Home Majid%20Jordan\n",
      "839 My%20Hitta YG\n",
      "849 My%20Hitta Jeezy\n",
      "859 My%20Hitta Rich%20Homie%20Quan\n",
      "1019 Lifestyle Young%20Thug\n",
      "1029 Lifestyle Rich%20Homie%20Quan\n",
      "1089 New%20Flame Usher\n",
      "1099 New%20Flame Rick%20Ross\n",
      "1119 Love%20Never%20Felt%20So%20Good Justin%20Timberlake\n",
      "1219 Do%20What%20U%20Want R.%20Kelly\n",
      "1269 No%20Mediocre Iggy%20Azalea\n",
      "1299 Believe%20Me Drake\n",
      "1316 23 Miley%20Cyrus\n",
      "1356 White%20Walls ScHoolboy%20Q\n",
      "1364 White%20Walls Hollis\n",
      "1383 Stay%20the%20Night Hayley%20Williams\n",
      "1397 Studio BJ%20the%20Chicago%20Kid\n",
      "1408 Somethin%27%20Bad Carrie%20Underwood\n",
      "CPU times: user 6.06 s, sys: 2.47 s, total: 8.54 s\n",
      "Wall time: 1h 19min 54s\n"
     ]
    }
   ],
   "source": [
    "%%time\n",
    "# my code\n",
    "\n",
    "all_songs_0614 = []\n",
    "featurings = []\n",
    "\n",
    "for index, row in y2006_2014.iterrows():\n",
    "    song = urllib2.quote(row[\"song\"].encode(\"utf-8\"))\n",
    "    artist = urllib2.quote(row[\"band_singer\"].encode(\"utf-8\"))\n",
    "    link = requests.get('http://developer.echonest.com/api/v4/song/search?api_key=GT3HIFAMRWWCOWIAZ' + \n",
    "                        '&bucket=artist_discovery&bucket=artist_discovery_rank&bucket=artist_familiarity' +\n",
    "                        '&bucket=artist_familiarity_rank&bucket=artist_hotttnesss&bucket=artist_hotttnesss_rank' +\n",
    "                        '&bucket=artist_location&bucket=song_currency&bucket=song_currency_rank' +\n",
    "                        '&bucket=song_discovery&bucket=song_discovery_rank&bucket=song_hotttnesss'+\n",
    "                        '&bucket=song_hotttnesss_rank&bucket=song_type&bucket=audio_summary' +\n",
    "                        '&results=1&title=%(song)s&artist=%(artist)s' % \\\n",
    "                        {\"song\": song, \"artist\": artist})\n",
    "    result_json = json.loads(link.text)\n",
    "    if not result_json[\"response\"][\"songs\"]:\n",
    "        featurings.append(index)\n",
    "        print index, song, artist\n",
    "    all_songs_0614.append(result_json)\n",
    "    time.sleep(3)\n",
    "    \n",
    "## echonest does not seem to account for featurings, see below:\n",
    "## https://developer.echonest.com/forums/thread/2007"
   ]
  },
  {
   "cell_type": "code",
   "execution_count": 195,
   "metadata": {
    "collapsed": false
   },
   "outputs": [
    {
     "data": {
      "text/plain": [
       "1274"
      ]
     },
     "execution_count": 195,
     "metadata": {},
     "output_type": "execute_result"
    }
   ],
   "source": [
    "len(all_songs_0614)"
   ]
  },
  {
   "cell_type": "code",
   "execution_count": null,
   "metadata": {
    "collapsed": true
   },
   "outputs": [],
   "source": [
    "# Below is the code I had before... which can be replaced by the above lol\n",
    "\n",
    "#         d[\"title\"] = b[\"title\"]\n",
    "#         d[\"id\"] = b[\"id\"]\n",
    "#         d[\"artist_name\"] = b[\"artist_name\"]\n",
    "#         d[\"artist_id\"] = b[\"artist_id\"]\n",
    "#         d[\"acousticness\"] = b[\"audio_summary\"][\"acousticness\"]\n",
    "#         d[\"analysis_url\"] = b[\"audio_summary\"][\"analysis_url\"]\n",
    "#         d[\"audio_md5\"] = b[\"audio_summary\"][\"audio_md5\"]\n",
    "#         d[\"duration\"] = b[\"audio_summary\"][\"duration\"]\n",
    "#         d[\"energy\"] = b[\"audio_summary\"][\"energy\"]\n",
    "#         d[\"key\"] = b[\"audio_summary\"][\"key\"]\n",
    "#         d[\"liveness\"] = b[\"audio_summary\"][\"liveness\"]\n",
    "#         d[\"loudness\"] = b[\"audio_summary\"][\"loudness\"]\n",
    "#         d[\"mode\"] = b[\"audio_summary\"][\"mode\"]\n",
    "#         d[\"speechiness\"] = b[\"audio_summary\"][\"speechiness\"]\n",
    "#         d[\"tempo\"] = b[\"audio_summary\"][\"tempo\"]\n",
    "#         d[\"time_signature\"] = b[\"audio_summary\"][\"time_signature\"]\n",
    "#         d[\"valence\"] = b[\"audio_summary\"][\"valence\"]\n",
    "        \n",
    "#         d[\"artist_discovery\"] = b[\"artist_discovery\"]\n",
    "        \n",
    "#         if b[\"artist_discovery\"]==0:\n",
    "#             d[\"artist_discovery_rank\"] = \"nan\"\n",
    "#         else:\n",
    "#             d[\"artist_discovery_rank\"] = b[\"artist_discovery_rank\"]\n",
    "            \n",
    "#         d[\"artist_familiarity\"] = b[\"artist_familiarity\"]\n",
    "#         if b[\"artist_familiarity\"]==0:\n",
    "#             d[\"artist_familiarity_rank\"] = \"nan\"\n",
    "#         else:\n",
    "#             d[\"artist_familiarity_rank\"] = b[\"artist_familiarity_rank\"]\n",
    "        \n",
    "#         d[\"artist_hotttnesss\"] = b[\"artist_hotttnesss\"]\n",
    "#         if b[\"artist_hotttnesss\"]==0:\n",
    "#             d[\"artist_hotttnesss_rank\"] = \"nan\"\n",
    "#         else:\n",
    "#             d[\"artist_hotttnesss_rank\"] = b[\"artist_hotttnesss_rank\"]\n",
    "\n",
    "#         d[\"artist_location\"] = b[\"artist_location\"]\n",
    "        \n",
    "#         d[\"song_currency\"] = b[\"song_currency\"]\n",
    "#         if b[\"song_currency\"]==0:\n",
    "#             d[\"song_currency_rank\"] = \"nan\"\n",
    "#         else:\n",
    "#             d[\"song_currency_rank\"] = b[\"song_currency_rank\"]\n",
    "\n",
    "#         d[\"song_discovery\"] = b[\"song_discovery\"]\n",
    "#         if b[\"song_discovery\"]==0:\n",
    "#             d[\"song_discovery_rank\"] = \"nan\"\n",
    "#         else:\n",
    "#             d[\"song_discovery_rank\"] = b[\"song_discovery_rank\"]\n",
    "\n",
    "#         d[\"song_hotttnesss\"] = b[\"song_hotttnesss\"]\n",
    "#         if b[\"song_hotttnesss\"]==0:\n",
    "#             d[\"song_hotttnesss_rank\"] = \"nan\"\n",
    "#         else:\n",
    "#             d[\"song_hotttnesss_rank\"] = b[\"song_hotttnesss_rank\"]\n",
    "\n",
    "#         d[\"song_type\"] = b[\"song_type\"]"
   ]
  }
 ],
 "metadata": {
  "kernelspec": {
   "display_name": "Python 2",
   "language": "python",
   "name": "python2"
  },
  "language_info": {
   "codemirror_mode": {
    "name": "ipython",
    "version": 2
   },
   "file_extension": ".py",
   "mimetype": "text/x-python",
   "name": "python",
   "nbconvert_exporter": "python",
   "pygments_lexer": "ipython2",
   "version": "2.7.10"
  }
 },
 "nbformat": 4,
 "nbformat_minor": 0
}
