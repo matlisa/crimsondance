{
 "cells": [
  {
   "cell_type": "markdown",
   "metadata": {},
   "source": [
    "## Problems with Data Merging"
   ]
  },
  {
   "cell_type": "markdown",
   "metadata": {},
   "source": [
    "### Billboard"
   ]
  },
  {
   "cell_type": "markdown",
   "metadata": {},
   "source": [
    "#### Featuring"
   ]
  },
  {
   "cell_type": "markdown",
   "metadata": {},
   "source": [
    "Billboard writes \"featuring\" in many different ways, some of them one. Instances have included \"Featruing\" \"featuring\" \"featrunig\" \"feat.\" \"Feat.\" and \"Feat\" among others. The solution is to separate all artist strings by \"feat\" or \"Feat\" and then manually clean the rest.\n",
    "\n",
    "Cut artist before \"Co-Starring\" if it has that as well. "
   ]
  },
  {
   "cell_type": "markdown",
   "metadata": {},
   "source": [
    "#### Miscellaneous"
   ]
  },
  {
   "cell_type": "markdown",
   "metadata": {},
   "source": [
    "Billboard takes whatever the artists give as the artist name. For instance \"with\" and \"Duet with\" are some instances of artists eschewing the \"featuring\" label. Unfortunately these issues must be dealt with manually."
   ]
  },
  {
   "cell_type": "markdown",
   "metadata": {},
   "source": [
    "Billboard also takes whatever the artists give as the\n",
    "Drop everything after \"High School Musical\" because EchoNest doesn't distinguish b/w 1, 2, and 3\n",
    "\n",
    "Need to cut off text in parentheses\n",
    "\n",
    "Manual Changes to make:\n",
    "\n",
    "Replace 3067 \"Hit Masters\" and 3105 \"The Rock Heroes\" with \"Kid Rock\"\n",
    "Replace 3249 song with \"Move\"\n",
    "Replace 3209 artist \"Kenny Chesney With Mac McAnally\" with \"Kenny Chesney\"\n",
    "Replace 3131 artist \"Kenny Chesney With The Wailers\" with \"Kenny Chesney\"\n",
    "Replace 3142 artist with \"Brad Paisley\"\n",
    "Replace 3028 \"Out Here Grindin\" with \"Out Here Grindin'\"\n",
    "Replace 3072 Song \"Something Special\" with \"Somethin' Special\"\n",
    "Replace 3075 artist \"Studio All-Stars\" with \"Estelle\"\n",
    "Replace 3273 and 3229 and 3302 artist \"Soulja Boy Tell 'em\" with \"Soulja Boy\"\n",
    "Replace 3278 artist with \"A.R. Rahman\" and song with \"Jai Ho\"\n",
    "Replace 3357 song with \"3 a.m.\"\n",
    "Replace 3265 artist with \"Coldplay\"\n",
    "Replace 3230 song with \"Jizz in My Pants\"\n",
    "Replace 3268 song with \"Fuck You\""
   ]
  },
  {
   "cell_type": "markdown",
   "metadata": {},
   "source": [
    "### EchoNest"
   ]
  },
  {
   "cell_type": "markdown",
   "metadata": {},
   "source": [
    "#### American Idol"
   ]
  },
  {
   "cell_type": "markdown",
   "metadata": {},
   "source": [
    "For obvious reasons, EchoNest does not contain information about covers that American Idol participants (For an interesting example: https://en.wikipedia.org/wiki/Praying_for_Time#American_Idol)."
   ]
  }
 ],
 "metadata": {
  "kernelspec": {
   "display_name": "Python 2",
   "language": "python",
   "name": "python2"
  },
  "language_info": {
   "codemirror_mode": {
    "name": "ipython",
    "version": 2
   },
   "file_extension": ".py",
   "mimetype": "text/x-python",
   "name": "python",
   "nbconvert_exporter": "python",
   "pygments_lexer": "ipython2",
   "version": "2.7.10"
  }
 },
 "nbformat": 4,
 "nbformat_minor": 0
}
