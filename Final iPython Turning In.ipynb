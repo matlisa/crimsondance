{
 "cells": [
  {
   "cell_type": "markdown",
   "metadata": {},
   "source": [
    "<h1 align=\"center\">Why do certain songs become popular?</h1>"
   ]
  },
  {
   "cell_type": "markdown",
   "metadata": {},
   "source": [
    "<h3 align=\"center\">An iPython Process notebook</h3>"
   ]
  },
  {
   "cell_type": "markdown",
   "metadata": {},
   "source": [
    "<h3 align=\"center\">by Crimson Dance (Julie Chang &#39;16, Steven Lee &#39;16, Lisa Ma &#39;16)</h3>"
   ]
  },
  {
   "cell_type": "markdown",
   "metadata": {},
   "source": [
    "Using data from Echo Nest on song and artist characteristics, we try to determine whether we can predict whether a song will become popular."
   ]
  },
  {
   "cell_type": "markdown",
   "metadata": {},
   "source": [
    "## Methodology\n"
   ]
  },
  {
   "cell_type": "markdown",
   "metadata": {},
   "source": [
    "We define whether a song becomes 'popular' or not by whether it made it onto the Billboard Top 100 Year-End Chart. We will examine all songs that made it onto any weekly 100 chart from 2000 to 2014 (as well as 2015 in a later analysis).\n",
    "\n",
    "Data is pulled from three sources: 1) Songs from Billboard Year-End Chart is obtained from Wikipedia; 2) Songs from Billboard Weekly Charts are pulled from billboard.com; 3) Song characteristics are pulled from Echo Nest."
   ]
  },
  {
   "cell_type": "code",
   "execution_count": null,
   "metadata": {
    "collapsed": true
   },
   "outputs": [],
   "source": [
    "%matplotlib inline\n",
    "import numpy as np\n",
    "import scipy as sp\n",
    "import matplotlib as mpl\n",
    "import matplotlib.cm as cm\n",
    "import matplotlib.pyplot as plt\n",
    "import pandas as pd\n",
    "import time\n",
    "pd.set_option('display.width', 500)\n",
    "pd.set_option('display.max_columns', 100)\n",
    "pd.set_option('display.notebook_repr_html', True)\n",
    "import seaborn as sns\n",
    "sns.set_style(\"whitegrid\")\n",
    "sns.set_context(\"poster\")\n",
    "import re\n",
    "import math\n",
    "import urllib2\n",
    "import json\n",
    "from pyquery import PyQuery as pq\n",
    "from bs4 import BeautifulSoup\n",
    "import requests\n",
    "from datetime import date, timedelta"
   ]
  },
  {
   "cell_type": "markdown",
   "metadata": {
    "collapsed": true
   },
   "source": [
    "## Getting the Data"
   ]
  },
  {
   "cell_type": "markdown",
   "metadata": {},
   "source": [
    "### Weekly Billboard Data"
   ]
  },
  {
   "cell_type": "code",
   "execution_count": null,
   "metadata": {
    "collapsed": true
   },
   "outputs": [],
   "source": [
    "#Define a function allsats that get saturdays in specified range\n",
    "\n",
    "def allsats(syear, years, fs):\n",
    "    days=[]\n",
    "    d = date(syear, 1, fs)\n",
    "    while d.year in years:\n",
    "        days.append(d.strftime(\"%Y-%m-%d\"))\n",
    "        d += timedelta(days = 7)\n",
    "    return days"
   ]
  },
  {
   "cell_type": "markdown",
   "metadata": {},
   "source": [
    "We first get all the Saturdays from  2000 to 2014."
   ]
  },
  {
   "cell_type": "code",
   "execution_count": null,
   "metadata": {
    "collapsed": true
   },
   "outputs": [],
   "source": [
    "years = [2000, 2001, 2002, 2003, 2004, 2005, 2006, 2007, 2008, 2009, 2010, 2011, 2012, 2013, 2014]\n",
    "sats = allsats(2000, years, 1)"
   ]
  },
  {
   "cell_type": "markdown",
   "metadata": {},
   "source": [
    "Now, we get all Saturdays from 2015."
   ]
  },
  {
   "cell_type": "code",
   "execution_count": null,
   "metadata": {
    "collapsed": true
   },
   "outputs": [],
   "source": [
    "years2015 = [2015]\n",
    "sats2015 = allsats(2015, years2015, 1)"
   ]
  },
  {
   "cell_type": "code",
   "execution_count": null,
   "metadata": {
    "collapsed": true
   },
   "outputs": [],
   "source": [
    "satdict={}\n",
    "satdict2015={}\n",
    "for sat in sats:\n",
    "    satdict[sat]=requests.get(\"http://www.billboard.com/charts/hot-100/\"+sat).text\n",
    "    time.sleep(1)\n",
    "for sat in sats2015:\n",
    "    satdict2015[sat]=requests.get(\"http://www.billboard.com/charts/hot-100/\"+sat).text\n",
    "    time.sleep(1)"
   ]
  },
  {
   "cell_type": "code",
   "execution_count": null,
   "metadata": {
    "collapsed": true
   },
   "outputs": [],
   "source": [
    "# Function to scrape information from Billboard.com\n",
    "def rank_scrape(articlerows):\n",
    "    songdicts = []\n",
    "    songdict = {}\n",
    "    ranking = 1\n",
    "    for article in articlerows:\n",
    "        songdict[\"ranking\"] = ranking\n",
    "        title = article.find(\"div\", attrs={\"class\": \"row-title\"}).find(\"h2\").get_text()\n",
    "        artist = article.find(\"div\", attrs={\"class\": \"row-title\"}).find(\"h3\").get_text()\n",
    "        title = title.strip()\n",
    "        sep1 = 'Featuring'\n",
    "        sep2 = ','\n",
    "        sep3 = '&'\n",
    "        artist = artist.split(sep1, 1)[0]\n",
    "        artist = artist.split(sep2, 2)[0]\n",
    "        artist = artist.split(sep3, 3)[0]\n",
    "        artist = artist.strip()\n",
    "        songdict[\"title\"] = title\n",
    "        songdict[\"artist\"] = artist\n",
    "        songdicts.append(dict(songdict))\n",
    "        ranking += 1\n",
    "    return songdicts\n",
    "\n",
    "# Function to get information from Billboard.com for each week\n",
    "def get_weekly(weekstring, indict):\n",
    "    raw_chart = indict[weekstring]\n",
    "    text = BeautifulSoup(raw_chart, \"html.parser\")\n",
    "    rows = text.find_all(\"article\", attrs={\"class\": \"chart-row\"})\n",
    "    \n",
    "    testdicts = rank_scrape(rows)\n",
    "    for test in testdicts:\n",
    "        test['date'] = weekstring\n",
    "    return testdicts"
   ]
  },
  {
   "cell_type": "markdown",
   "metadata": {},
   "source": [
    "Get Billboard data for 2000 to 2014"
   ]
  },
  {
   "cell_type": "code",
   "execution_count": null,
   "metadata": {
    "collapsed": true
   },
   "outputs": [],
   "source": [
    "weekinfo=[]\n",
    "for k in sats:\n",
    "    weekinfo.append(get_weekly(k, satdict))\n",
    "datum = []\n",
    "for week in weekinfo:\n",
    "    datum.append(pd.DataFrame(week))\n",
    "data2014 = pd.concat(datum, ignore_index=True)"
   ]
  },
  {
   "cell_type": "markdown",
   "metadata": {},
   "source": [
    "Get Billboard data for 2015"
   ]
  },
  {
   "cell_type": "code",
   "execution_count": null,
   "metadata": {
    "collapsed": true
   },
   "outputs": [],
   "source": [
    "weekinfo2015=[]\n",
    "for k in sats2015:\n",
    "    weekinfo.append(get_weekly(k, satdict2015))\n",
    "datum2015=[]\n",
    "for week in weekinfo:\n",
    "    datum.append(pd.DataFrame(week))\n",
    "data2015 = pd.concat(datum, ignore_index=True)"
   ]
  },
  {
   "cell_type": "markdown",
   "metadata": {},
   "source": [
    "#### Cleaning"
   ]
  },
  {
   "cell_type": "code",
   "execution_count": 2,
   "metadata": {
    "collapsed": false
   },
   "outputs": [],
   "source": [
    "newdata2014 = data2014.drop_duplicates(subset=['artist', 'title'])\n",
    "newdata2015 = data2015.drop_duplicates(subset=['artist', 'title'])"
   ]
  },
  {
   "cell_type": "markdown",
   "metadata": {},
   "source": [
    "Echo Nest API took too long to call so we split the 2000 to 2014 to make two separate calls to the API"
   ]
  },
  {
   "cell_type": "code",
   "execution_count": null,
   "metadata": {
    "collapsed": true
   },
   "outputs": [],
   "source": [
    "lisa2014 = newdata2014[0:2888]\n",
    "steven2014 = newdata2014[2888:]\n",
    "lisa2014.to_csv('tempdata/lisa2014.csv')\n",
    "steven2014.to_csv('tempdata/steven2014.csv')"
   ]
  },
  {
   "cell_type": "markdown",
   "metadata": {},
   "source": [
    "### Echo Nest Data"
   ]
  },
  {
   "cell_type": "markdown",
   "metadata": {},
   "source": [
    "<h1>TODO</h1>"
   ]
  },
  {
   "cell_type": "code",
   "execution_count": null,
   "metadata": {
    "collapsed": true
   },
   "outputs": [],
   "source": [
    "for index, row in steven2014[780:].iterrows():\n",
    "    song = urllib2.quote(row[\"title\"].encode(\"utf-8\"))\n",
    "    artist = urllib2.quote(row[\"artist\"].encode(\"utf-8\"))\n",
    "    link = requests.get('http://developer.echonest.com/api/v4/song/search?api_key=GT3HIFAMRWWCOWIAZ' + \n",
    "                        '&bucket=artist_discovery&bucket=artist_discovery_rank&bucket=artist_familiarity' +\n",
    "                        '&bucket=artist_familiarity_rank&bucket=artist_hotttnesss&bucket=artist_hotttnesss_rank' +\n",
    "                        '&bucket=artist_location&bucket=song_currency&bucket=song_currency_rank' +\n",
    "                        '&bucket=song_discovery&bucket=song_discovery_rank&bucket=song_hotttnesss'+\n",
    "                        '&bucket=song_hotttnesss_rank&bucket=song_type&bucket=audio_summary' +\n",
    "                        '&results=1&title=%(song)s&artist=%(artist)s' % \\\n",
    "                        {\"song\": song, \"artist\": artist})\n",
    "    result_json = json.loads(link.text)\n",
    "    if not result_json[\"response\"][\"songs\"]:\n",
    "        featurings.append(index)\n",
    "    all_songs.append(result_json)\n",
    "    time.sleep(4)"
   ]
  },
  {
   "cell_type": "markdown",
   "metadata": {},
   "source": [
    "#### Merge Issues with Billboard and Echo Nest"
   ]
  },
  {
   "cell_type": "markdown",
   "metadata": {},
   "source": [
    "The Echo Nest API could not find a good number of songs due to errors with Billboard and Echo Nest. We manually cleaned the Billboard data to account for difference in Billboard and Echo Nest conventions. We ignored songs that Echo Nest did not contain data for. This included, by and large, songs that appeared in movies, covers done by artists, American Idol participants, High School Musical participants, etc."
   ]
  },
  {
   "cell_type": "markdown",
   "metadata": {},
   "source": [
    "# TODO"
   ]
  },
  {
   "cell_type": "code",
   "execution_count": null,
   "metadata": {
    "collapsed": true
   },
   "outputs": [],
   "source": [
    "newdata2014['artist'][2931] = \"Usher\"\n",
    "newdata2014['title'][3020] = \"Bartender Song\"\n",
    "newdata2014['artist'][3067] = \"Kid Rock\"\n",
    "newdata2014['artist'][3105] = \"Kid Rock\"\n",
    "newdata2014['title'][3249] = \"Move\"\n",
    "newdata2014['artist'][3209] = \"Kenny Chesney\"\n",
    "newdata2014['artist'][3131] = \"Kenny Chesney\"\n",
    "newdata2014['artist'][3142] = \"Brad Paisley\"\n",
    "newdata2014['title'][3028] = \"Out Here Grindin'\"\n",
    "newdata2014['title'][3072] = \"Somethin' Special\"\n",
    "newdata2014['artist'][3075] = \"Estelle\"\n",
    "newdata2014['artist'][3273] = \"Soulja Boy\"\n",
    "newdata2014['artist'][3229] = \"Soulja Boy\"\n",
    "newdata2014['artist'][3302] = \"Soulja Boy\"\n",
    "newdata2014['artist'][3895] = \"Soulja Boy\"\n",
    "newdata2014['artist'][3278] = \"A.R. Rahman\"\n",
    "newdata2014['title'][3278] = \"Jai Ho\"\n",
    "newdata2014['title'][3357] = \"3 a.m.\"\n",
    "newdata2014['artist'][3265] = \"Coldplay\"\n",
    "newdata2014['title'][3230] = \"Jizz in My Pants\"\n",
    "newdata2014['title'][3268] = \"Fuck You\"\n",
    "newdata2014['artist'][3373] = \"Fast Life Yungstaz\"\n",
    "newdata2014['title'][3411] = \"Wetter\"\n",
    "newdata2014['artist'][3436] = \"Keyshia Cole\"\n",
    "newdata2014['title'][3439] = \"Fallin' For You\"\n",
    "newdata2014['artist'][3443] = \"Demi Lovato\"\n",
    "newdata2014['artist'][3454] = \"OneRepublic\"\n",
    "newdata2014['title'][3491] = \"Gettin' You Home\"\n",
    "newdata2014['artist'][3492] = \"Kenny Chesney\"\n",
    "newdata2014['artist'][3517] = \"Jay-Z\"\n",
    "newdata2014['title'][3524] = \"I'm Goin In\"\n",
    "newdata2014['artist'][3539] = \"P!nk\"\n",
    "newdata2014['artist'][3569] = \"Thirty Seconds to Mars\"\n",
    "newdata2014['artist'][3687] = \"Jay-Z\"\n",
    "newdata2014['title'][3695] = \"Stranded\"\n",
    "newdata2014['title'][3702] = \"My City of Ruins\"\n",
    "newdata2014['artist'][3707] = \"P!nk\"\n",
    "newdata2014['title'][3712] = \"Fuck Today\"\n",
    "newdata2014['artist'][3746] = \"Three 6 Mafia\"\n",
    "newdata2014['artist'][3875] = \"V. V. Brown\"\n",
    "newdata2014['title'][3891] = \"9AM in Dallas\"\n",
    "newdata2014['artist'][3897] = \"Dirty Heads\"\n",
    "newdata2014['title'][3949] = \"2012\"\n",
    "newdata2014['title'][3977] = \"Forget You\"\n",
    "newdata2014['title'][4084] = \"The Best Thing About Me is You\"\n",
    "newdata2014['artist'][4087] = \"Jason Aldean\"\n",
    "newdata2014['artist'][4109] = \"Michael Jackson\"\n",
    "newdata2014['title'][4234] = \"Did It On Em\"\n",
    "newdata2014['artist'][4327] = \"Enrique Iglesias\"\n",
    "newdata2014['artist'][4377] = \"Brad Paisley\"\n",
    "newdata2014['title'][4403] = \"The Man Who\"\n",
    "newdata2014['artist'][4449] = \"Jay-Z\"\n",
    "newdata2014['artist'][4458] = \"Jay-Z\"\n",
    "newdata2014['artist'][4462] = \"Jay-Z\"\n",
    "newdata2014['artist'][4475] = \"New Boyz\"\n",
    "newdata2014['artist'][4505] = \"Chris Brown\"\n",
    "newdata2014['title'][4562] = \"Stronger\"\n",
    "newdata2014['title'][4597] = \"HYFR\"\n",
    "newdata2014['artist'][4652] = \"Jay-Z\"\n",
    "newdata2014['title'][4679] = \"4AM\"\n",
    "newdata2014['title'][4744] = \"I Don't Really Care\"\n",
    "newdata2014['artist'][4845] = \"Big Time Rush\"\n",
    "newdata2014['artist'][4863] = \"Pusha T\"\n",
    "newdata2014['artist'][4928] = \"Lovers' Eyes\"\n",
    "newdata2014['artist'][4901] = \"Kanye West\"\n",
    "newdata2014['artist'][4970] = \"Swedish House Mafia\"\n",
    "newdata2014['artist'][4972] = \"Jason Aldean\"\n",
    "newdata2014['title'][4976] = \"A Thousand Years\"\n",
    "newdata2014['artist'][4977] = \"Christina Aguilera\"\n",
    "newdata2014['title'][5029] = \"We Still In This Bitch\"\n",
    "newdata2014['artist'][5080] = \"Tim McGraw\"\n",
    "newdata2014['title'][5092] = \"Rich as Fuck\"\n",
    "newdata2014['artist'][5129] = \"T.I./B.O.B./Kendrick Lamar\"\n",
    "newdata2014['title'][5139] = \"Getting Over You\"\n",
    "newdata2014['title'][5161] = \"Grandpa\"\n",
    "newdata2014['artist'][5228] = \"Rich Gang\"\n",
    "newdata2014['artist'][5268] = \"August Alsina\"\n",
    "newdata2014['title'][5268] = \"I Luv this Shit\"\n",
    "newdata2014['artist'][5471] = \"Fitz & The Tantrums\"\n",
    "newdata2014['artist'][5273] = \"Zedd\"\n",
    "newdata2014['artist'][5277] = \"Keith Urban\"\n",
    "newdata2014['title'][5339] = \"Let Me Be Lonely\"\n",
    "newdata2014['artist'][5368] = \"August Alsina\"\n",
    "newdata2014['title'][5368] = \"I Luv this Shit\"\n",
    "newdata2014['title'][5506] = \"We are One\"\n",
    "newdata2014['artist'][5507] = \"K Camp\"\n",
    "newdata2014['title'][5532] = \"Hold on\"\n",
    "newdata2014['artist'][5556] = \"Miranda Lambert\"\n",
    "newdata2014['title'][5560] = \"Help Falling In Love\"\n",
    "newdata2014['artist'][5588] = \"X Ambassadors\"\n",
    "newdata2014['artist'][5573] = \"Florida Georgia Line\"\n",
    "newdata2014['title'][5679] = \"I Don't Fuck with You\"\n",
    "newdata2014['title'][5715] = \"GDFR\"\n",
    "newdata2014['title'][5736] = \"Shut Up and Dance\"\n",
    "newdata2014['artist'][5746] = \"Nicki Minaj\"\n",
    "newdata2014['artist'][5762]= \"Lilly Wood\"\n",
    "newdata2014['artist'][5771] = \"White Buffalo\"\n",
    "newdata2014['title'][3695] = \"Stranded\""
   ]
  },
  {
   "cell_type": "code",
   "execution_count": null,
   "metadata": {
    "collapsed": true
   },
   "outputs": [],
   "source": [
    "lisa_featurings['artist'][0] = \"Missy Elliott\"\n",
    "lisa_featurings['title'][2] = \"The Christmas Song\"\n",
    "lisa_featurings['artist'][3] = \"Diddy\"\n",
    "lisa_featurings['artist'][5] = \"Deborah Cox\"\n",
    "lisa_featurings['artist'][6] = \"Chad Brock\"\n",
    "lisa_featurings['title'][7] = \"U Know What's Up\"\n",
    "lisa_featurings['title'][8] = \"He Cant Love U\"\n",
    "lisa_featurings['title'][9] = \"That's The Way It Is\"\n",
    "lisa_featurings['title'][10] = \"Don't Say You Love Me\"\n",
    "lisa_featurings['artist'][11] = \"Destiny's Child\"\n",
    "lisa_featurings['title'][12] = \"He Didn't Have To Be\"\n",
    "lisa_featurings['artist'][13] = \"Snoop Dogg\"\n",
    "lisa_featurings['title'][13] = \"G'd Up\"\n",
    "lisa_featurings['artist'][14] = \"Deborah Cox\"\n",
    "lisa_featurings['title'][14] = \"We Can't Be Friends\"\n",
    "lisa_featurings['artist'][15] = \"Destiny's Child\"\n",
    "lisa_featurings['artist'][16] = \"D'Angelo\"\n",
    "lisa_featurings['title'][17] = \"She Thinks My Tractor's Sexy\"\n",
    "lisa_featurings['title'][18] = \"What's My Name\"\n",
    "lisa_featurings['artist'][19] = \"D'Angelo\"\n",
    "lisa_featurings['artist'][20] = \"*NSync\"\n",
    "lisa_featurings['title'][21] = \"I Don't Wanna\"\n",
    "lisa_featurings['title'][22] = \"Love's The Only House\"\n",
    "lisa_featurings['artist'][23] = \"Diddy\"\n",
    "lisa_featurings['artist'][24] = \"Hot Boy$\"\n",
    "lisa_featurings['artist'][25] = \"Clint Black\"\n",
    "lisa_featurings['artist'][26] = \"2Pac\"\n",
    "lisa_featurings['title'][26] = \"Baby Don't Cry\"\n",
    "lisa_featurings['title'][27] = \"That's What I'm Looking For\"\n",
    "lisa_featurings['title'][28] = \"U Don't Love Me\"\n",
    "lisa_featurings['title'][29] = \"Daddy Won't Sell The Farm\"\n",
    "lisa_featurings['artist'][30] = \"Kenny Rogers\"\n",
    "lisa_featurings['title'][31] = \"She's More\"\n",
    "lisa_featurings['title'][32] = \"He Wasn't Man Enough\"\n",
    "lisa_featurings['title'][33] = \"Couldn't Last A Moment\"\n",
    "lisa_featurings['title'][34] = \"Can't Stay\"\n",
    "lisa_featurings['title'][35] = \"If You Don't Wanna Love Me\"\n",
    "lisa_featurings['title'][36] = \"I'm Outta Love\"\n",
    "lisa_featurings['title'][37] = \"I Don't Wanna Kiss You Goodnight\"\n",
    "lisa_featurings['title'][38] = \"It's So Hard\"\n",
    "lisa_featurings['title'][39] = \"Let's Get Married\"\n",
    "lisa_featurings['title'][40] = \"It's Gonna Be Me\"\n",
    "lisa_featurings['title'][41] = \"Jumpin', Jumpin'\"\n",
    "lisa_featurings['artist'][41] = \"Destiny's Child\"\n",
    "lisa_featurings['artist'][42] = \"Lee Ann Womack\"\n",
    "lisa_featurings['title'][43] = \"I'll Be\"\n",
    "lisa_featurings['title'][44] = \"You'll Always Be Loved By Me\"\n",
    "lisa_featurings['title'][45] = \"Doesn't Really Matter\"\n",
    "lisa_featurings['title'][46] = \"That's The Way\"\n",
    "lisa_featurings['artist'][48] = \"*NSync\"\n",
    "lisa_featurings['artist'][49] = \"*NSync\"\n",
    "lisa_featurings['artist'][50] = \"Snoop Dogg\"\n",
    "lisa_featurings['title'][51] = \"I Think I'm In Love With You\"\n",
    "lisa_featurings['title'][52] = \"Ruff Ryders\"\n",
    "lisa_featurings['title'][53] = \"Don't Think I'm Not\"\n",
    "lisa_featurings['title'][54] = \"It's My Life\"\n",
    "lisa_featurings['title'][55] = \"It's Always Somethin'\"\n",
    "lisa_featurings['title'][56] = \"Let's Make Love\"\n",
    "lisa_featurings['artist'][56] = \"Faith Hill\"\n",
    "lisa_featurings['artist'][57] = \"P!nk\"\n",
    "lisa_featurings['artist'][58] = \"Bow Wow\"\n",
    "lisa_featurings['artist'][59] = \"You're A God\"\n",
    "lisa_featurings['artist'][60] = \"Aaron's Party (Come Get It)\"\n",
    "lisa_featurings['artist'][61] = \"Can't Fight The Moonlight\"\n",
    "lisa_featurings['artist'][62] = \"Can't Go For That\"\n",
    "lisa_featurings['artist'][63] = \"That's the Kind Of Mood I'm In\"\n",
    "lisa_featurings['title'][64] = \"Indepedent Women, Part I\"\n",
    "lisa_featurings['artist'][64] = \"Destiny's Child\"\n",
    "lisa_featurings['title'][65] = \"You Should've Told Me\"\n",
    "lisa_featurings['title'][66] = \"You Won't Be Lonely Now\"\n",
    "lisa_featurings['artist'][67] = \"*NSync\"\n",
    "lisa_featurings['title'][68] = \"What's Your Fantasy\"\n",
    "lisa_featurings['artist'][69] = \"Cam'Ron\"\n",
    "lisa_featurings['title'][70] = \"If You're Gone\"\n",
    "lisa_featurings['title'][71] = \"Toca's Miracle\"\n",
    "lisa_featurings['title'][72] = \"It Wasn't Me\"\n",
    "lisa_featurings['title'][73] = \"No More (Baby I'ma Do Right)\"\n",
    "lisa_featurings['artist'][74] = \"Damizza\"\n",
    "lisa_featurings['title'][76] = \"Love Don't Cost A Thing\"\n",
    "lisa_featurings['title'][78] = \"Don't Tell Me\"\n",
    "lisa_featurings['title'][79] = \"It's Over Now\"\n",
    "lisa_featurings['artist'][80] = \"*NSync\"\n",
    "lisa_featurings['artist'][81] = \"Bow Wow\"\n",
    "lisa_featurings['artist'][82] = \"P!nk\"\n",
    "lisa_featurings['artist'][83] = \"Shaggy\"\n",
    "lisa_featurings['artist'][84] = \"Ricky Martin\"\n",
    "lisa_featurings['artist'][85] = \"Aaron Lewis\"\n",
    "lisa_featurings['artist'][86] = \"Baha Men\"\n",
    "lisa_featurings['title'][87] = \"Drops Of Jupiter\"\n",
    "lisa_featurings['artist'][88] = \"Missy Elliott\"\n",
    "lisa_featurings['artist'][89] = \"Bow Wow\"\n",
    "lisa_featurings['title'][90] = \"Baby, Come On Over\"\n",
    "lisa_featurings['artist'][91] = \"G. Dep\"\n",
    "lisa_featurings['artist'][92] = \"Jagged Edge\"\n",
    "lisa_featurings['artist'][93] = \"J. Cozier\"\n",
    "lisa_featurings['artist'][94] = \"D12\"\n",
    "lisa_featurings['artist'][95] = \"Missy Elliott\"\n",
    "lisa_featurings['artist'][96] = \"Bow Wow\"\n",
    "lisa_featurings['title'][97] = \"Livin' It Up\"\n",
    "lisa_featurings['artist'][98] = \"*NSync\"\n",
    "lisa_featurings['artist'][99] = \"Robert L. Huggar\"\n",
    "lisa_featurings['title'][100] = \"Rollout (My Business)\"\n",
    "lisa_featurings['title'][101] = \"Mamma Got Ass\"\n",
    "lisa_featurings['title'][102] = \"Young'n\"\n",
    "lisa_featurings['artist'][103] = \"Jo Dee Messina\"\n",
    "lisa_featurings['artist'][104] = \"Missy Elliott\"\n",
    "lisa_featurings['title'][105] = \"Never Too Far/Hero\"\n",
    "lisa_featurings['artist'][106] = \"Bow Wow\"\n",
    "lisa_featurings['artist'][107] = \"*NSync\"\n",
    "lisa_featurings['artist'][108] = \"P!nk\"\n",
    "lisa_featurings['artist'][110] = \"Knoc-Turn'Al\"\n",
    "lisa_featurings['title'][111] = \"What's It Gonna Be\"\n",
    "lisa_featurings['artist'][112] = \"Goo Goo Dolls\"\n",
    "lisa_featurings['title'][113] = \"I'm Gonna Miss Her\"\n",
    "lisa_featurings['title'][114] = \"Gimme The Light\"\n",
    "lisa_featurings['title'][115] = \"I Need a Girl, Pt. 2\"\n",
    "lisa_featurings['artist'][115] = \"Diddy\"\n",
    "lisa_featurings['artist'][116] = \"Irv Gotti\"\n",
    "lisa_featurings['artist'][117] = \"P!nk\"\n",
    "lisa_featurings['artist'][118] = \"Elivs vs JXL\"\n",
    "lisa_featurings['title'][121] = \"Out Of My Heart\"\n",
    "lisa_featurings['artist'][122] = \"Yasmeen\"\n",
    "lisa_featurings['artist'][123] = \"Missy Elliott\"\n",
    "lisa_featurings['artist'][124] = \"P!nk\"\n",
    "lisa_featurings['artist'][125] = \"Missy Elliott\"\n",
    "lisa_featurings['artist'][126] = \"Toby Keith\"\n",
    "lisa_featurings['artist'][127] = \"Missy Elliott\"\n",
    "lisa_featurings['title'][127] = \"Pussycat\"\n",
    "lisa_featurings['title'][128] = \"Never Leave You\"\n",
    "lisa_featurings['artist'][129] = \"My a\"\n",
    "lisa_featurings['title'][130] = \"Love @ 1st Sight\"\n",
    "lisa_featurings['artist'][131] = \"Maroon 5\"\n",
    "lisa_featurings['artist'][132] = \"2Pac\"\n",
    "lisa_featurings['artist'][133] = \"M.V.P.\"\n",
    "lisa_featurings['title'][133] = \"Roc Ya Body 'Mic Check 1, 2'\"\n",
    "lisa_featurings['title'][134] = \"Another Postcard\"\n",
    "lisa_featurings['artist'][135] = \"2Pac\"\n",
    "lisa_featurings['artist'][136] = \"Too $hort\"\n",
    "lisa_featurings['artist'][137] = \"Scotty Emerick\"\n",
    "lisa_featurings['artist'][138] = \"2Pac\"\n",
    "lisa_featurings['artist'][139] = \"Maroon 5\"\n",
    "lisa_featurings['title'][140] = \"Work It\"\n",
    "lisa_featurings['artist'][141] = \"Jimmy Buffett\"\n",
    "lisa_featurings['artist'][143] = \"Maroon 5\"\n",
    "lisa_featurings['title'][144] = \"Shake Dat Shit\"\n",
    "lisa_featurings['title'][145] = \"Let's Go\"\n",
    "lisa_featurings['artist'][146] = \"Usher\"\n",
    "lisa_featurings['artist'][147] = \"Shania Twain\"\n",
    "lisa_featurings['artist'][148] = \"Jay-Z\"\n",
    "lisa_featurings['artist'][149] = \"Maroon 5\"\n",
    "lisa_featurings['artist'][150] = \"Daryl Hall\"\n",
    "lisa_featurings['title'][151] = \"Honkytonk U\"\n",
    "lisa_featurings['title'][153] = \"Bithces Ain't Shit\"\n",
    "lisa_featurings['artist'][154] = \"Pretty Ricky\"\n",
    "lisa_featurings['artist'][155] = \"The Used\"\n",
    "lisa_featurings['title'][156] = \"Breathe (2 AM)\"\n",
    "lisa_featurings['title'][157] = \"Trapped In The Closet Chapter 1\"\n",
    "lisa_featurings['artist'][158] = \"Gorillaz\"\n",
    "lisa_featurings['title'][159] = \"Helena\"\n",
    "lisa_featurings['artist'][161] = \"Jeezy\"\n",
    "lisa_featurings['artist'][162] = \"Damian Marley\"\n",
    "lisa_featurings['artist'][163] = \"50 Cent\"\n",
    "lisa_featurings['title'][163] = \"Outta Control\"\n",
    "lisa_featurings['title'][164] = \"Heard 'Em Say\"\n",
    "lisa_featurings['artist'][165] = \"Shakira\"\n",
    "lisa_featurings['title'][166] = \"Kryptonite\"\n",
    "lisa_featurings['artist'][166] = \"Cristian Castro\"\n",
    "lisa_featurings['artist'][167] = \"Jeezy\"\n",
    "lisa_featurings['artist'][180] = \"Angels & Airwaves\"\n",
    "lisa_featurings['title'][182] = \"I Love My Bitch\"\n",
    "lisa_featurings['artist'][183] = \"Mary J. Blige\"\n",
    "lisa_featurings['artist'][184] = \"Janet\"\n",
    "lisa_featurings['artist'][185] = \"Thirty Seconds To Mars\"\n",
    "lisa_featurings['artist'][186] = \"Sean Paul\"\n",
    "lisa_featurings['title'][188] = \"Love Me Or Hate Me\"\n",
    "lisa_featurings['artist'][191] = \"Thirty Seconds To Mars\"\n",
    "lisa_featurings['title'][192] = \"b.u.d.d.y.\"\n",
    "lisa_featurings['artist'][193] = \"Nake Brothers Band\"\n",
    "lisa_featurings['artist'][194] = \"Bow Wow\"\n",
    "lisa_featurings['title'][196] = \"Pop Lock & Drop It\"\n",
    "lisa_featurings['artist'][197] = \"P!nk\"\n",
    "lisa_featurings['artist'][198] = \"Maroon 5\"\n",
    "lisa_featurings['artist'][202] = \"Down\"\n",
    "lisa_featurings['artist'][203] = \"R. Kelly\"\n",
    "lisa_featurings['title'][204] = \"Do You Know? (The Ping Pong Song)\"\n",
    "lisa_featurings['artist'][205] = \"Tim McGraw\"\n",
    "lisa_featurings['artist'][228] = \"Soulja Boy\"\n",
    "lisa_featurings['artist'][229] = \"Billy Ray Cyrus\"\n",
    "lisa_featurings['artist'][236] = \"Michael Jackson\"\n",
    "lisa_featurings['artist'][237] = \"Soulja Boy\""
   ]
  },
  {
   "cell_type": "markdown",
   "metadata": {},
   "source": [
    "We make API calls once more with this updated data."
   ]
  },
  {
   "cell_type": "markdown",
   "metadata": {},
   "source": [
    "# TODO"
   ]
  },
  {
<<<<<<< HEAD
   "cell_type": "markdown",
   "metadata": {},
   "source": [
    "### Yearly Billboard Data"
   ]
  },
  {
   "cell_type": "markdown",
   "metadata": {},
   "source": [
    "## Exploratory Analysis"
   ]
  },
  {
=======
>>>>>>> recover-branch
   "cell_type": "code",
   "execution_count": null,
   "metadata": {
    "collapsed": true
   },
   "outputs": [],
   "source": []
  }
 ],
 "metadata": {
  "kernelspec": {
   "display_name": "Python 2",
   "language": "python",
   "name": "python2"
  },
  "language_info": {
   "codemirror_mode": {
    "name": "ipython",
    "version": 2
   },
   "file_extension": ".py",
   "mimetype": "text/x-python",
   "name": "python",
   "nbconvert_exporter": "python",
   "pygments_lexer": "ipython2",
   "version": "2.7.10"
  }
 },
 "nbformat": 4,
 "nbformat_minor": 0
}
